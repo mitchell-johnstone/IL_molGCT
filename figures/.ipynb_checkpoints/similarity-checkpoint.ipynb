{
 "cells": [
  {
   "cell_type": "code",
   "execution_count": 2,
   "id": "9f1f69df",
   "metadata": {},
   "outputs": [
    {
     "name": "stdout",
     "output_type": "stream",
     "text": [
      "Defaulting to user installation because normal site-packages is not writeable\n",
      "Looking in indexes: https://pypi.org/simple, https://pypi.ngc.nvidia.com\n",
      "Collecting atomInSmiles\n",
      "  Downloading atomInSmiles-1.0.2-py3-none-any.whl (12 kB)\n",
      "Requirement already satisfied: rdkit>=2022.9.5 in /home/johnstonem/.local/lib/python3.10/site-packages (from atomInSmiles) (2023.3.2)\n",
      "Requirement already satisfied: numpy in /usr/local/lib/python3.10/dist-packages (from rdkit>=2022.9.5->atomInSmiles) (1.22.2)\n",
      "Requirement already satisfied: Pillow in /usr/local/lib/python3.10/dist-packages (from rdkit>=2022.9.5->atomInSmiles) (9.2.0)\n",
      "Installing collected packages: atomInSmiles\n",
      "Successfully installed atomInSmiles-1.0.2\n",
      "\n",
      "\u001b[1m[\u001b[0m\u001b[34;49mnotice\u001b[0m\u001b[1;39;49m]\u001b[0m\u001b[39;49m A new release of pip is available: \u001b[0m\u001b[31;49m23.1.2\u001b[0m\u001b[39;49m -> \u001b[0m\u001b[32;49m23.2.1\u001b[0m\n",
      "\u001b[1m[\u001b[0m\u001b[34;49mnotice\u001b[0m\u001b[1;39;49m]\u001b[0m\u001b[39;49m To update, run: \u001b[0m\u001b[32;49mpython3 -m pip install --upgrade pip\u001b[0m\n"
     ]
    }
   ],
   "source": [
    "# !pip install atomInSmiles"
   ]
  },
  {
   "cell_type": "code",
   "execution_count": 15,
   "id": "9e463bc3",
   "metadata": {},
   "outputs": [],
   "source": [
    "import matplotlib.pyplot as plt\n",
    "import pandas as pd\n",
    "import numpy as np\n",
    "#!pip install rdkit\n",
    "from rdkit import Chem\n",
    "from atomInSmiles import similarity, encode, decode\n",
    "from functools import partial"
   ]
  },
  {
   "cell_type": "code",
   "execution_count": 4,
   "id": "0c080d65",
   "metadata": {},
   "outputs": [],
   "source": [
    "output_files = {\n",
    "    'atom: 30000':'atom_IL_moses_bench2_lat=128_epo=50_k=4_20230723.csv',\n",
    "    'atom: 10 cond':'atom_moses_bench2_10conds_lat=128_epo=50_k=4_20230722.csv',\n",
    "    'smilespe: 30000':'smilespe_IL_moses_bench2_lat=128_epo=50_k=4_20230723.csv',\n",
    "    'smilespe: 10 cond':'smilespe_moses_bench2_10conds_lat=128_epo=50_k=4_20230722.csv'\n",
    "}"
   ]
  },
  {
   "cell_type": "code",
   "execution_count": 5,
   "id": "a2c81b3d",
   "metadata": {},
   "outputs": [],
   "source": [
    "def getDetails(name, file):\n",
    "    out = pd.read_csv(\"../outputs/\"+file)\n",
    "    return out[out.Valid==1]\n",
    "\n",
    "output_dfs = dict(zip(output_files.keys(), (getDetails(name, output_files[name]) for name in output_files.keys())))"
   ]
  },
  {
   "cell_type": "code",
   "execution_count": 10,
   "id": "9e1d3267",
   "metadata": {},
   "outputs": [],
   "source": [
    "inp = pd.read_csv(\"../data/IL/train.csv\")\n",
    "inp['atomInSmiles'] = inp['src'].apply(encode)"
   ]
  },
  {
   "cell_type": "code",
   "execution_count": 19,
   "id": "c88278df",
   "metadata": {},
   "outputs": [],
   "source": [
    "def get_snn(out):\n",
    "    similar_to_out = partial(similarity, ais2=out)\n",
    "    return inp[\"atomInSmiles\"].apply(similar_to_out).max()"
   ]
  },
  {
   "cell_type": "code",
   "execution_count": null,
   "id": "927f305e",
   "metadata": {},
   "outputs": [
    {
     "name": "stdout",
     "output_type": "stream",
     "text": [
      "atom: 30000\n"
     ]
    }
   ],
   "source": [
    "for name, df in output_dfs.items():\n",
    "    print(name)\n",
    "    df['atomInSmiles'] = df['SMILES'].apply(encode)\n",
    "    print(\"SNN: \", df['atomInSmiles'].apply(get_snn).mean())"
   ]
  },
  {
   "cell_type": "code",
   "execution_count": null,
   "id": "69fa8114",
   "metadata": {},
   "outputs": [],
   "source": []
  }
 ],
 "metadata": {
  "kernelspec": {
   "display_name": "Python 3 (ipykernel)",
   "language": "python",
   "name": "python3"
  },
  "language_info": {
   "codemirror_mode": {
    "name": "ipython",
    "version": 3
   },
   "file_extension": ".py",
   "mimetype": "text/x-python",
   "name": "python",
   "nbconvert_exporter": "python",
   "pygments_lexer": "ipython3",
   "version": "3.10.6"
  }
 },
 "nbformat": 4,
 "nbformat_minor": 5
}
