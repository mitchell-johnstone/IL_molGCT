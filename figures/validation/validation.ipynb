{
 "cells": [
  {
   "cell_type": "markdown",
   "id": "673b001b",
   "metadata": {},
   "source": [
    "# Validate the outputs! Regression!"
   ]
  },
  {
   "cell_type": "code",
   "execution_count": 1,
   "id": "53dd44b4",
   "metadata": {
    "scrolled": true
   },
   "outputs": [],
   "source": [
    "# !pip install xgboost\n",
    "# !pip install shap"
   ]
  },
  {
   "cell_type": "code",
   "execution_count": 31,
   "id": "076a958c",
   "metadata": {},
   "outputs": [],
   "source": [
    "import pandas as pd\n",
    "from rdkit import Chem\n",
    "import xgboost as xgb\n",
    "from sklearn.model_selection import train_test_split\n",
    "from sklearn.metrics import r2_score\n",
    "from collections import defaultdict\n",
    "from sklearn.metrics import mean_squared_error\n",
    "import shap\n",
    "import multiprocessing as mp\n",
    "import numpy as np\n",
    "from sklearn.preprocessing import StandardScaler\n",
    "import matplotlib.pyplot as plt"
   ]
  },
  {
   "cell_type": "markdown",
   "id": "22f2c9f6",
   "metadata": {},
   "source": [
    "## Get Data"
   ]
  },
  {
   "cell_type": "code",
   "execution_count": 6,
   "id": "1bdf95d8",
   "metadata": {},
   "outputs": [
    {
     "name": "stdout",
     "output_type": "stream",
     "text": [
      "<class 'pandas.core.frame.DataFrame'>\n",
      "RangeIndex: 3315 entries, 0 to 3314\n",
      "Columns: 5674 entries, Temperature/K to chiralPhMoment\r\n",
      "dtypes: category(3), float64(5671)\n",
      "memory usage: 143.5 MB\n",
      "None\n",
      "Index(['Temperature/K', 'Pressure/kPa', 'Density', 'cmp1ID', 'cmp1name',\n",
      "       'SMILES', 'Viscosity', 'ElecConductivity', 'MW', 'AMW',\n",
      "       ...\n",
      "       's1_numAroBonds', 's2_numAroBonds', 's3_numAroBonds', 's4_numAroBonds',\n",
      "       's34_size', 's34_relSize', 's34_phSize', 's34_phRelSize',\n",
      "       'chiralMoment', 'chiralPhMoment\\r'],\n",
      "      dtype='object', length=5674)\n"
     ]
    }
   ],
   "source": [
    "dtypes=defaultdict(lambda:\"float\")\n",
    "dtypes['cmp1ID'] = 'category'\n",
    "dtypes['cmp1name'] = 'category'\n",
    "dtypes['SMILES'] = 'category'\n",
    "df = pd.read_csv(\"../../data/IL/model_data_with_descriptors.csv\", dtype=dtypes, na_values=[\"na\"])\n",
    "df = df.rename(columns={'Viscosity[Liquid]/Pa&#8226;s':'Viscosity', \n",
    "                   'Electrical_conductivity[Liquid]/S/m':\"ElecConductivity\", \n",
    "                   'Specific_density[Liquid]/kg/m3': 'Density'\n",
    "                  })\n",
    "print(df.info())\n",
    "print(df.columns)"
   ]
  },
  {
   "cell_type": "code",
   "execution_count": 7,
   "id": "7d9b3d1e",
   "metadata": {},
   "outputs": [],
   "source": [
    "# Feature clean-up\n",
    "df.dropna(axis=1, how='any', inplace=True)          # Remove any column that contains missing data\n",
    "df = df.loc[:, ~df.isin([np.inf, -np.inf]).any()]   # Delete columns that contain at least 1 inf\n",
    "df = df.loc[:, ~df.isnull().any()]                  # Delete columns that contain at least 1 nan\n",
    "df = df.loc[:, df.nunique() != 1]                   # Delete columns that have all elements the same\n",
    "columns_with_na = df.columns[df.applymap(lambda x: 'na' in str(x)).any()] # Identify columns with 'na' values in any of their rows\n",
    "df = df.drop(columns=columns_with_na) # Drop columns with 'na' values"
   ]
  },
  {
   "cell_type": "code",
   "execution_count": 9,
   "id": "7c78f907",
   "metadata": {},
   "outputs": [],
   "source": [
    "replaces= {}\n",
    "for col in df.columns:\n",
    "    if '[' in col or ']' in col or '<' in col:\n",
    "        replaces[col] = col.replace('[','_').replace(']','_').replace('<','_')\n",
    "df = df.rename(columns=replaces)        "
   ]
  },
  {
   "cell_type": "code",
   "execution_count": 10,
   "id": "df9828e6",
   "metadata": {},
   "outputs": [],
   "source": [
    "outputs = ['Viscosity', 'ElecConductivity', 'Density']\n",
    "irrelevant = ['cmp1ID', 'cmp1name', 'SMILES']\n",
    "inputs = list(set(df.columns).difference(set(outputs)).difference(set(irrelevant)))"
   ]
  },
  {
   "cell_type": "markdown",
   "id": "1d0b77e0",
   "metadata": {},
   "source": [
    "## Feature & Label data"
   ]
  },
  {
   "cell_type": "code",
   "execution_count": 94,
   "id": "3fdbdf2d",
   "metadata": {},
   "outputs": [],
   "source": [
    "X = df[inputs]\n",
    "y = df[outputs]"
   ]
  },
  {
   "cell_type": "code",
   "execution_count": 95,
   "id": "c7f0fe87",
   "metadata": {},
   "outputs": [],
   "source": [
    "scaler = StandardScaler() # Scale the feature values\n",
    "X_scaled = scaler.fit_transform(X) # Scale the feature values"
   ]
  },
  {
   "cell_type": "code",
   "execution_count": 96,
   "id": "ca39312a",
   "metadata": {},
   "outputs": [],
   "source": [
    "X_train, X_test, y_train, y_test = train_test_split(X_scaled, y, random_state=1, test_size=0.25, shuffle=True)"
   ]
  },
  {
   "cell_type": "code",
   "execution_count": 97,
   "id": "9f868773",
   "metadata": {},
   "outputs": [],
   "source": [
    "dtrain_reg = xgb.DMatrix(X_train, y_train)\n",
    "dtest_reg = xgb.DMatrix(X_test, y_test)"
   ]
  },
  {
   "cell_type": "code",
   "execution_count": 98,
   "id": "9a123bca",
   "metadata": {},
   "outputs": [],
   "source": [
    "evalset = [(X_train, y_train), (X_test,y_test)]\n",
    "# evalset = [(X_test,y_test)]"
   ]
  },
  {
   "cell_type": "code",
   "execution_count": 99,
   "id": "f616818e",
   "metadata": {
    "scrolled": true
   },
   "outputs": [
    {
     "name": "stdout",
     "output_type": "stream",
     "text": [
      "[0]\tvalidation_0-rmse:512.68849\tvalidation_1-rmse:511.84754\n",
      "[1]\tvalidation_0-rmse:359.87350\tvalidation_1-rmse:358.49699\n",
      "[2]\tvalidation_0-rmse:252.86326\tvalidation_1-rmse:251.22029\n",
      "[3]\tvalidation_0-rmse:178.00684\tvalidation_1-rmse:176.66740\n",
      "[4]\tvalidation_0-rmse:125.54617\tvalidation_1-rmse:124.38870\n",
      "[5]\tvalidation_0-rmse:88.77313\tvalidation_1-rmse:87.78187\n",
      "[6]\tvalidation_0-rmse:62.97044\tvalidation_1-rmse:62.22449\n",
      "[7]\tvalidation_0-rmse:44.87264\tvalidation_1-rmse:44.28132\n",
      "[8]\tvalidation_0-rmse:32.18287\tvalidation_1-rmse:31.88667\n",
      "[9]\tvalidation_0-rmse:23.32929\tvalidation_1-rmse:23.31950\n",
      "[10]\tvalidation_0-rmse:17.13931\tvalidation_1-rmse:17.49017\n",
      "[11]\tvalidation_0-rmse:12.88946\tvalidation_1-rmse:13.58563\n",
      "[12]\tvalidation_0-rmse:9.88949\tvalidation_1-rmse:10.94894\n",
      "[13]\tvalidation_0-rmse:7.87018\tvalidation_1-rmse:9.21023\n",
      "[14]\tvalidation_0-rmse:6.52628\tvalidation_1-rmse:8.12890\n",
      "[15]\tvalidation_0-rmse:5.60513\tvalidation_1-rmse:7.43135\n",
      "[16]\tvalidation_0-rmse:4.99140\tvalidation_1-rmse:6.99957\n",
      "[17]\tvalidation_0-rmse:4.58489\tvalidation_1-rmse:6.73430\n",
      "[18]\tvalidation_0-rmse:4.14470\tvalidation_1-rmse:6.39366\n",
      "[19]\tvalidation_0-rmse:3.93697\tvalidation_1-rmse:6.29646\n",
      "[20]\tvalidation_0-rmse:3.67192\tvalidation_1-rmse:6.15043\n",
      "[21]\tvalidation_0-rmse:3.54427\tvalidation_1-rmse:6.03844\n",
      "[22]\tvalidation_0-rmse:3.41753\tvalidation_1-rmse:5.94497\n",
      "[23]\tvalidation_0-rmse:3.31713\tvalidation_1-rmse:5.81496\n",
      "[24]\tvalidation_0-rmse:3.21263\tvalidation_1-rmse:5.78639\n",
      "[25]\tvalidation_0-rmse:3.10550\tvalidation_1-rmse:5.66098\n",
      "[26]\tvalidation_0-rmse:3.06513\tvalidation_1-rmse:5.63093\n",
      "[27]\tvalidation_0-rmse:3.02251\tvalidation_1-rmse:5.59449\n",
      "[28]\tvalidation_0-rmse:2.89011\tvalidation_1-rmse:5.50646\n",
      "[29]\tvalidation_0-rmse:2.80549\tvalidation_1-rmse:5.46624\n",
      "[30]\tvalidation_0-rmse:2.73598\tvalidation_1-rmse:5.42768\n",
      "[31]\tvalidation_0-rmse:2.62000\tvalidation_1-rmse:5.38198\n",
      "[32]\tvalidation_0-rmse:2.59464\tvalidation_1-rmse:5.36626\n",
      "[33]\tvalidation_0-rmse:2.50878\tvalidation_1-rmse:5.32021\n",
      "[34]\tvalidation_0-rmse:2.45072\tvalidation_1-rmse:5.26679\n",
      "[35]\tvalidation_0-rmse:2.41173\tvalidation_1-rmse:5.25362\n",
      "[36]\tvalidation_0-rmse:2.36705\tvalidation_1-rmse:5.24690\n",
      "[37]\tvalidation_0-rmse:2.34707\tvalidation_1-rmse:5.23543\n",
      "[38]\tvalidation_0-rmse:2.32519\tvalidation_1-rmse:5.21352\n",
      "[39]\tvalidation_0-rmse:2.26718\tvalidation_1-rmse:5.17260\n",
      "[40]\tvalidation_0-rmse:2.22837\tvalidation_1-rmse:5.13228\n",
      "[41]\tvalidation_0-rmse:2.20218\tvalidation_1-rmse:5.11141\n",
      "[42]\tvalidation_0-rmse:2.18397\tvalidation_1-rmse:5.10611\n",
      "[43]\tvalidation_0-rmse:2.14924\tvalidation_1-rmse:5.08510\n",
      "[44]\tvalidation_0-rmse:2.10735\tvalidation_1-rmse:5.04985\n",
      "[45]\tvalidation_0-rmse:2.06544\tvalidation_1-rmse:5.04213\n",
      "[46]\tvalidation_0-rmse:2.00621\tvalidation_1-rmse:5.01031\n",
      "[47]\tvalidation_0-rmse:1.97988\tvalidation_1-rmse:5.00350\n",
      "[48]\tvalidation_0-rmse:1.93307\tvalidation_1-rmse:4.98963\n",
      "[49]\tvalidation_0-rmse:1.90295\tvalidation_1-rmse:4.96969\n"
     ]
    },
    {
     "data": {
      "text/html": [
       "<style>#sk-container-id-15 {color: black;background-color: white;}#sk-container-id-15 pre{padding: 0;}#sk-container-id-15 div.sk-toggleable {background-color: white;}#sk-container-id-15 label.sk-toggleable__label {cursor: pointer;display: block;width: 100%;margin-bottom: 0;padding: 0.3em;box-sizing: border-box;text-align: center;}#sk-container-id-15 label.sk-toggleable__label-arrow:before {content: \"▸\";float: left;margin-right: 0.25em;color: #696969;}#sk-container-id-15 label.sk-toggleable__label-arrow:hover:before {color: black;}#sk-container-id-15 div.sk-estimator:hover label.sk-toggleable__label-arrow:before {color: black;}#sk-container-id-15 div.sk-toggleable__content {max-height: 0;max-width: 0;overflow: hidden;text-align: left;background-color: #f0f8ff;}#sk-container-id-15 div.sk-toggleable__content pre {margin: 0.2em;color: black;border-radius: 0.25em;background-color: #f0f8ff;}#sk-container-id-15 input.sk-toggleable__control:checked~div.sk-toggleable__content {max-height: 200px;max-width: 100%;overflow: auto;}#sk-container-id-15 input.sk-toggleable__control:checked~label.sk-toggleable__label-arrow:before {content: \"▾\";}#sk-container-id-15 div.sk-estimator input.sk-toggleable__control:checked~label.sk-toggleable__label {background-color: #d4ebff;}#sk-container-id-15 div.sk-label input.sk-toggleable__control:checked~label.sk-toggleable__label {background-color: #d4ebff;}#sk-container-id-15 input.sk-hidden--visually {border: 0;clip: rect(1px 1px 1px 1px);clip: rect(1px, 1px, 1px, 1px);height: 1px;margin: -1px;overflow: hidden;padding: 0;position: absolute;width: 1px;}#sk-container-id-15 div.sk-estimator {font-family: monospace;background-color: #f0f8ff;border: 1px dotted black;border-radius: 0.25em;box-sizing: border-box;margin-bottom: 0.5em;}#sk-container-id-15 div.sk-estimator:hover {background-color: #d4ebff;}#sk-container-id-15 div.sk-parallel-item::after {content: \"\";width: 100%;border-bottom: 1px solid gray;flex-grow: 1;}#sk-container-id-15 div.sk-label:hover label.sk-toggleable__label {background-color: #d4ebff;}#sk-container-id-15 div.sk-serial::before {content: \"\";position: absolute;border-left: 1px solid gray;box-sizing: border-box;top: 0;bottom: 0;left: 50%;z-index: 0;}#sk-container-id-15 div.sk-serial {display: flex;flex-direction: column;align-items: center;background-color: white;padding-right: 0.2em;padding-left: 0.2em;position: relative;}#sk-container-id-15 div.sk-item {position: relative;z-index: 1;}#sk-container-id-15 div.sk-parallel {display: flex;align-items: stretch;justify-content: center;background-color: white;position: relative;}#sk-container-id-15 div.sk-item::before, #sk-container-id-15 div.sk-parallel-item::before {content: \"\";position: absolute;border-left: 1px solid gray;box-sizing: border-box;top: 0;bottom: 0;left: 50%;z-index: -1;}#sk-container-id-15 div.sk-parallel-item {display: flex;flex-direction: column;z-index: 1;position: relative;background-color: white;}#sk-container-id-15 div.sk-parallel-item:first-child::after {align-self: flex-end;width: 50%;}#sk-container-id-15 div.sk-parallel-item:last-child::after {align-self: flex-start;width: 50%;}#sk-container-id-15 div.sk-parallel-item:only-child::after {width: 0;}#sk-container-id-15 div.sk-dashed-wrapped {border: 1px dashed gray;margin: 0 0.4em 0.5em 0.4em;box-sizing: border-box;padding-bottom: 0.4em;background-color: white;}#sk-container-id-15 div.sk-label label {font-family: monospace;font-weight: bold;display: inline-block;line-height: 1.2em;}#sk-container-id-15 div.sk-label-container {text-align: center;}#sk-container-id-15 div.sk-container {/* jupyter's `normalize.less` sets `[hidden] { display: none; }` but bootstrap.min.css set `[hidden] { display: none !important; }` so we also need the `!important` here to be able to override the default hidden behavior on the sphinx rendered scikit-learn.org. See: https://github.com/scikit-learn/scikit-learn/issues/21755 */display: inline-block !important;position: relative;}#sk-container-id-15 div.sk-text-repr-fallback {display: none;}</style><div id=\"sk-container-id-15\" class=\"sk-top-container\"><div class=\"sk-text-repr-fallback\"><pre>XGBRegressor(base_score=None, booster=None, callbacks=None,\n",
       "             colsample_bylevel=None, colsample_bynode=None,\n",
       "             colsample_bytree=None, early_stopping_rounds=None,\n",
       "             enable_categorical=False, eval_metric=None, feature_types=None,\n",
       "             gamma=None, gpu_id=0, grow_policy=None, importance_type=None,\n",
       "             interaction_constraints=None, learning_rate=None, max_bin=None,\n",
       "             max_cat_threshold=None, max_cat_to_onehot=None,\n",
       "             max_delta_step=None, max_depth=None, max_leaves=None,\n",
       "             min_child_weight=None, missing=nan, monotone_constraints=None,\n",
       "             n_estimators=50, n_jobs=36, num_parallel_tree=None, predictor=None,\n",
       "             random_state=None, ...)</pre><b>In a Jupyter environment, please rerun this cell to show the HTML representation or trust the notebook. <br />On GitHub, the HTML representation is unable to render, please try loading this page with nbviewer.org.</b></div><div class=\"sk-container\" hidden><div class=\"sk-item\"><div class=\"sk-estimator sk-toggleable\"><input class=\"sk-toggleable__control sk-hidden--visually\" id=\"sk-estimator-id-15\" type=\"checkbox\" checked><label for=\"sk-estimator-id-15\" class=\"sk-toggleable__label sk-toggleable__label-arrow\">XGBRegressor</label><div class=\"sk-toggleable__content\"><pre>XGBRegressor(base_score=None, booster=None, callbacks=None,\n",
       "             colsample_bylevel=None, colsample_bynode=None,\n",
       "             colsample_bytree=None, early_stopping_rounds=None,\n",
       "             enable_categorical=False, eval_metric=None, feature_types=None,\n",
       "             gamma=None, gpu_id=0, grow_policy=None, importance_type=None,\n",
       "             interaction_constraints=None, learning_rate=None, max_bin=None,\n",
       "             max_cat_threshold=None, max_cat_to_onehot=None,\n",
       "             max_delta_step=None, max_depth=None, max_leaves=None,\n",
       "             min_child_weight=None, missing=nan, monotone_constraints=None,\n",
       "             n_estimators=50, n_jobs=36, num_parallel_tree=None, predictor=None,\n",
       "             random_state=None, ...)</pre></div></div></div></div></div>"
      ],
      "text/plain": [
       "XGBRegressor(base_score=None, booster=None, callbacks=None,\n",
       "             colsample_bylevel=None, colsample_bynode=None,\n",
       "             colsample_bytree=None, early_stopping_rounds=None,\n",
       "             enable_categorical=False, eval_metric=None, feature_types=None,\n",
       "             gamma=None, gpu_id=0, grow_policy=None, importance_type=None,\n",
       "             interaction_constraints=None, learning_rate=None, max_bin=None,\n",
       "             max_cat_threshold=None, max_cat_to_onehot=None,\n",
       "             max_delta_step=None, max_depth=None, max_leaves=None,\n",
       "             min_child_weight=None, missing=nan, monotone_constraints=None,\n",
       "             n_estimators=50, n_jobs=36, num_parallel_tree=None, predictor=None,\n",
       "             random_state=None, ...)"
      ]
     },
     "execution_count": 99,
     "metadata": {},
     "output_type": "execute_result"
    }
   ],
   "source": [
    "n = 50\n",
    "params = {\n",
    "#     \"eta\": 0.05,\n",
    "#     \"max_depth\": 10,\n",
    "    \"tree_method\": \"gpu_hist\",\n",
    "    \"gpu_id\":0,\n",
    "    \"objective\": \"reg:squarederror\",\n",
    "    \"n_jobs\":mp.cpu_count() // 2,\n",
    "    \"n_estimators\":n,\n",
    "#     \"eval_metric\":'logloss', \n",
    "#     \"device\": \"cuda\",\n",
    "#     \"enable_categorical\":True,\n",
    "#     \"max_cat_to_onehot\":1, \n",
    "}\n",
    "# params = {\n",
    "#     \"objective\": \"reg:squarederror\", \n",
    "#     \"tree_method\": \"gpu_hist\", \n",
    "#     \"gpu_id\":0, \n",
    "#     \"max_cat_to_onehot\":1, \n",
    "#     \"enable_categorical\":True,\n",
    "#     \"n_estimators\":n,\n",
    "#     \"predictor\": \"gpu_predictor\",\n",
    "# }\n",
    "# params = {\"objective\": \"reg:squarederror\", \"tree_method\": \"hist\"}\n",
    "\n",
    "model = xgb.XGBRegressor(**params)\n",
    "model.fit(X_train, y_train, eval_set=evalset)\n",
    "# model = xgb.train(\n",
    "#     params=params,\n",
    "#     dtrain=dtrain_reg,\n",
    "#     num_boost_round=n,\n",
    "# )"
   ]
  },
  {
   "cell_type": "code",
   "execution_count": 100,
   "id": "43dd411f",
   "metadata": {},
   "outputs": [
    {
     "name": "stdout",
     "output_type": "stream",
     "text": [
      "RMSE of the base model: 2.971\n",
      "R^2 of the base model: 0.876\n"
     ]
    }
   ],
   "source": [
    "preds = model.predict(X_test)\n",
    "print(f\"RMSE of the base model: {mean_squared_error(y_test, preds, squared=False):.3f}\")\n",
    "print(f\"R^2 of the base model: {r2_score(y_test, preds):.3f}\")"
   ]
  },
  {
   "cell_type": "code",
   "execution_count": 101,
   "id": "6c2ac157",
   "metadata": {},
   "outputs": [
    {
     "name": "stdout",
     "output_type": "stream",
     "text": [
      "0.876313681748854\n"
     ]
    }
   ],
   "source": [
    "print(r2_score(y_test, preds))"
   ]
  },
  {
   "cell_type": "code",
   "execution_count": 102,
   "id": "62901b4c",
   "metadata": {},
   "outputs": [
    {
     "data": {
      "image/png": "[encoded data removed]",
      "text/plain": [
       "<Figure size 640x480 with 1 Axes>"
      ]
     },
     "metadata": {},
     "output_type": "display_data"
    }
   ],
   "source": [
    "results = model.evals_result()\n",
    "# plot learning curves\n",
    "plt.plot(results['validation_0']['rmse'][10:], label='train')\n",
    "plt.plot(results['validation_1']['rmse'][10:], label='test')\n",
    "# show the legend\n",
    "plt.legend()\n",
    "# show the plot\n",
    "plt.show()"
   ]
  },
  {
   "cell_type": "code",
   "execution_count": 22,
   "id": "8ce40267",
   "metadata": {},
   "outputs": [],
   "source": [
    "# shap_values = model.predict(X_test, pred_contribs=True)"
   ]
  },
  {
   "cell_type": "code",
   "execution_count": null,
   "id": "e5ebb6a1",
   "metadata": {},
   "outputs": [],
   "source": [
    "explainer = shap.Explainer(model.predict, X_test, max_evals=20000)\n",
    "shap_values = explainer(X_test)\n",
    "shap.plots.bar(shap_values)"
   ]
  },
  {
   "cell_type": "code",
   "execution_count": null,
   "id": "21d1b7d9",
   "metadata": {},
   "outputs": [],
   "source": [
    "# shap_interaction_values = model.predict(dtrain_reg, pred_interactions=True)"
   ]
  },
  {
   "cell_type": "code",
   "execution_count": null,
   "id": "816ed843",
   "metadata": {},
   "outputs": [],
   "source": [
    "explainer = shap.TreeExplainer(model)\n",
    "shap_values = explainer.shap_values(X_train)[0]\n",
    "print(shap_values)\n",
    "\n",
    "shap.force_plot(\n",
    "    explainer.expected_value,\n",
    "    shap_values[0, :],\n",
    "    X_train[0, :],\n",
    "    matplotlib=True,\n",
    ")"
   ]
  },
  {
   "cell_type": "code",
   "execution_count": null,
   "id": "511da526",
   "metadata": {},
   "outputs": [],
   "source": []
  }
 ],
 "metadata": {
  "kernelspec": {
   "display_name": "Python 3 (ipykernel)",
   "language": "python",
   "name": "python3"
  },
  "language_info": {
   "codemirror_mode": {
    "name": "ipython",
    "version": 3
   },
   "file_extension": ".py",
   "mimetype": "text/x-python",
   "name": "python",
   "nbconvert_exporter": "python",
   "pygments_lexer": "ipython3",
   "version": "3.10.6"
  }
 },
 "nbformat": 4,
 "nbformat_minor": 5
}
