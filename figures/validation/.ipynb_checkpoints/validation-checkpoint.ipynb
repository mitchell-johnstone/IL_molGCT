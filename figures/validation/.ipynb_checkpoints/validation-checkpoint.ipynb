{
 "cells": [
  {
   "cell_type": "markdown",
   "id": "673b001b",
   "metadata": {},
   "source": [
    "# Validate the outputs! Regression!"
   ]
  },
  {
   "cell_type": "code",
   "execution_count": 1,
   "id": "53dd44b4",
   "metadata": {
    "scrolled": true
   },
   "outputs": [],
   "source": [
    "# !pip install xgboost\n",
    "# !pip install shap"
   ]
  },
  {
   "cell_type": "code",
   "execution_count": 14,
   "id": "076a958c",
   "metadata": {},
   "outputs": [],
   "source": [
    "import pandas as pd\n",
    "from rdkit import Chem\n",
    "import xgboost as xgb\n",
    "from sklearn.model_selection import train_test_split\n",
    "from sklearn.metrics import r2_score\n",
    "from collections import defaultdict\n",
    "from sklearn.metrics import mean_squared_error\n",
    "import shap\n",
    "import multiprocessing as mp\n"
   ]
  },
  {
   "cell_type": "markdown",
   "id": "22f2c9f6",
   "metadata": {},
   "source": [
    "## Get Data"
   ]
  },
  {
   "cell_type": "code",
   "execution_count": 3,
   "id": "1bdf95d8",
   "metadata": {},
   "outputs": [
    {
     "name": "stdout",
     "output_type": "stream",
     "text": [
      "<class 'pandas.core.frame.DataFrame'>\n",
      "RangeIndex: 3315 entries, 0 to 3314\n",
      "Columns: 5674 entries, Temperature/K to chiralPhMoment\r\n",
      "dtypes: category(3), float64(5671)\n",
      "memory usage: 143.5 MB\n",
      "None\n",
      "Index(['Temperature/K', 'Pressure/kPa', 'Density', 'cmp1ID', 'cmp1name',\n",
      "       'SMILES', 'Viscosity', 'ElecConductivity', 'MW', 'AMW',\n",
      "       ...\n",
      "       's1_numAroBonds', 's2_numAroBonds', 's3_numAroBonds', 's4_numAroBonds',\n",
      "       's34_size', 's34_relSize', 's34_phSize', 's34_phRelSize',\n",
      "       'chiralMoment', 'chiralPhMoment\\r'],\n",
      "      dtype='object', length=5674)\n"
     ]
    }
   ],
   "source": [
    "dtypes=defaultdict(lambda:\"float\")\n",
    "dtypes['cmp1ID'] = 'category'\n",
    "dtypes['cmp1name'] = 'category'\n",
    "dtypes['SMILES'] = 'category'\n",
    "df = pd.read_csv(\"../../data/IL/model_data_with_descriptors.csv\", dtype=dtypes, na_values=[\"na\"])\n",
    "df = df.rename(columns={'Viscosity[Liquid]/Pa&#8226;s':'Viscosity', \n",
    "                   'Electrical_conductivity[Liquid]/S/m':\"ElecConductivity\", \n",
    "                   'Specific_density[Liquid]/kg/m3': 'Density'\n",
    "                  })\n",
    "print(df.info())\n",
    "print(df.columns)"
   ]
  },
  {
   "cell_type": "code",
   "execution_count": 4,
   "id": "7c78f907",
   "metadata": {},
   "outputs": [],
   "source": [
    "replaces= {}\n",
    "for col in df.columns:\n",
    "    if '[' in col or ']' in col or '<' in col:\n",
    "        replaces[col] = col.replace('[','_').replace(']','_').replace('<','_')\n",
    "df = df.rename(columns=replaces)        "
   ]
  },
  {
   "cell_type": "code",
   "execution_count": 5,
   "id": "df9828e6",
   "metadata": {},
   "outputs": [],
   "source": [
    "outputs = ['Viscosity', 'ElecConductivity', 'Density']\n",
    "irrelevant = ['cmp1ID', 'cmp1name', 'SMILES']\n",
    "inputs = list(set(df.columns).difference(set(outputs)).difference(set(irrelevant)))"
   ]
  },
  {
   "cell_type": "code",
   "execution_count": 6,
   "id": "3fdbdf2d",
   "metadata": {},
   "outputs": [],
   "source": [
    "X = df[inputs]\n",
    "y = df[outputs]"
   ]
  },
  {
   "cell_type": "code",
   "execution_count": 7,
   "id": "ca39312a",
   "metadata": {},
   "outputs": [],
   "source": [
    "X_train, X_test, y_train, y_test = train_test_split(X, y, random_state=1)"
   ]
  },
  {
   "cell_type": "code",
   "execution_count": 8,
   "id": "9f868773",
   "metadata": {},
   "outputs": [],
   "source": [
    "dtrain_reg = xgb.DMatrix(X_train, y_train)\n",
    "dtest_reg = xgb.DMatrix(X_test, y_test)"
   ]
  },
  {
   "cell_type": "code",
   "execution_count": null,
   "id": "2b17778e",
   "metadata": {},
   "outputs": [],
   "source": [
    "mp.cpu_count() // 2"
   ]
  },
  {
   "cell_type": "code",
   "execution_count": null,
   "id": "f616818e",
   "metadata": {},
   "outputs": [],
   "source": [
    "n = 1000\n",
    "params = {\n",
    "#     \"eta\": 0.05,\n",
    "#     \"max_depth\": 10,\n",
    "    \"tree_method\": \"gpu_hist\",\n",
    "    \"gpu_id\":0,\n",
    "    \"objective\": \"reg:squarederror\",\n",
    "    \"n_jobs\":mp.cpu_count() // 2\n",
    "#     \"device\": \"cuda\",\n",
    "#     \"enable_categorical\":True,\n",
    "#     \"max_cat_to_onehot\":1, \n",
    "}\n",
    "# params = {\n",
    "#     \"objective\": \"reg:squarederror\", \n",
    "#     \"tree_method\": \"gpu_hist\", \n",
    "#     \"gpu_id\":0, \n",
    "#     \"max_cat_to_onehot\":1, \n",
    "#     \"enable_categorical\":True,\n",
    "#     \"n_estimators\":n,\n",
    "#     \"predictor\": \"gpu_predictor\",\n",
    "# }\n",
    "# params = {\"objective\": \"reg:squarederror\", \"tree_method\": \"hist\"}\n",
    "\n",
    "# model = xgb.XGBRegressor(**params)\n",
    "# model.fit(X_train, y_train)\n",
    "model = xgb.train(\n",
    "    params=params,\n",
    "    dtrain=dtrain_reg,\n",
    "    num_boost_round=n,\n",
    ")"
   ]
  },
  {
   "cell_type": "code",
   "execution_count": null,
   "id": "43dd411f",
   "metadata": {},
   "outputs": [],
   "source": [
    "preds = model.predict(dtest_reg)\n",
    "rmse = mean_squared_error(y_test, preds, squared=False)\n",
    "print(f\"RMSE of the base model: {rmse:.3f}\")"
   ]
  },
  {
   "cell_type": "code",
   "execution_count": null,
   "id": "e5210523",
   "metadata": {},
   "outputs": [],
   "source": [
    "print(r2_score(y_test, preds))"
   ]
  },
  {
   "cell_type": "code",
   "execution_count": null,
   "id": "4d5d217a",
   "metadata": {},
   "outputs": [],
   "source": [
    "model.set_param({\"device\": \"cuda\"})\n",
    "shap_values = model.predict(dtrain_reg, pred_contribs=True)"
   ]
  },
  {
   "cell_type": "code",
   "execution_count": null,
   "id": "e4cdef57",
   "metadata": {},
   "outputs": [],
   "source": [
    "# shap_interaction_values = model.predict(dtrain_reg, pred_interactions=True)"
   ]
  },
  {
   "cell_type": "code",
   "execution_count": null,
   "id": "00d5a69a",
   "metadata": {},
   "outputs": [],
   "source": [
    "explainer = shap.TreeExplainer(model)\n",
    "shap_values = explainer.shap_values(X_train)[0]\n",
    "print(shap_values)\n",
    "\n",
    "shap.force_plot(\n",
    "    explainer.expected_value,\n",
    "    shap_values[0, :],\n",
    "    X_train[0, :],\n",
    "    matplotlib=True,\n",
    ")"
   ]
  },
  {
   "cell_type": "code",
   "execution_count": null,
   "id": "710f12a5",
   "metadata": {},
   "outputs": [],
   "source": []
  }
 ],
 "metadata": {
  "kernelspec": {
   "display_name": "Python 3 (ipykernel)",
   "language": "python",
   "name": "python3"
  },
  "language_info": {
   "codemirror_mode": {
    "name": "ipython",
    "version": 3
   },
   "file_extension": ".py",
   "mimetype": "text/x-python",
   "name": "python",
   "nbconvert_exporter": "python",
   "pygments_lexer": "ipython3",
   "version": "3.10.6"
  }
 },
 "nbformat": 4,
 "nbformat_minor": 5
}
