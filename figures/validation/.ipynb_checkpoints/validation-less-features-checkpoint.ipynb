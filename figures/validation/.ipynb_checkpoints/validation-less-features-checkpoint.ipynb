{
 "cells": [
  {
   "cell_type": "markdown",
   "id": "673b001b",
   "metadata": {},
   "source": [
    "# Validate the outputs! Regression!"
   ]
  },
  {
   "cell_type": "code",
   "execution_count": 1,
   "id": "53dd44b4",
   "metadata": {
    "scrolled": true
   },
   "outputs": [],
   "source": [
    "# !pip install xgboost\n",
    "# !pip install shap"
   ]
  },
  {
   "cell_type": "code",
   "execution_count": 2,
   "id": "076a958c",
   "metadata": {},
   "outputs": [
    {
     "name": "stderr",
     "output_type": "stream",
     "text": [
      "Using `tqdm.autonotebook.tqdm` in notebook mode. Use `tqdm.tqdm` instead to force console mode (e.g. in jupyter console)\n"
     ]
    }
   ],
   "source": [
    "import pandas as pd\n",
    "from rdkit import Chem\n",
    "import xgboost as xgb\n",
    "from sklearn.model_selection import train_test_split\n",
    "from sklearn.metrics import r2_score\n",
    "from collections import defaultdict\n",
    "from sklearn.metrics import mean_squared_error\n",
    "import shap\n",
    "import multiprocessing as mp\n",
    "import numpy as np\n",
    "from sklearn.preprocessing import StandardScaler\n",
    "import matplotlib.pyplot as plt\n"
   ]
  },
  {
   "cell_type": "markdown",
   "id": "22f2c9f6",
   "metadata": {},
   "source": [
    "## Get Data"
   ]
  },
  {
   "cell_type": "code",
   "execution_count": 3,
   "id": "1bdf95d8",
   "metadata": {},
   "outputs": [
    {
     "name": "stdout",
     "output_type": "stream",
     "text": [
      "<class 'pandas.core.frame.DataFrame'>\n",
      "RangeIndex: 3315 entries, 0 to 3314\n",
      "Columns: 5674 entries, Temperature/K to chiralPhMoment\r\n",
      "dtypes: category(3), float64(5671)\n",
      "memory usage: 143.5 MB\n",
      "None\n",
      "Index(['Temperature/K', 'Pressure/kPa', 'Density', 'cmp1ID', 'cmp1name',\n",
      "       'SMILES', 'Viscosity', 'ElecConductivity', 'MW', 'AMW',\n",
      "       ...\n",
      "       's1_numAroBonds', 's2_numAroBonds', 's3_numAroBonds', 's4_numAroBonds',\n",
      "       's34_size', 's34_relSize', 's34_phSize', 's34_phRelSize',\n",
      "       'chiralMoment', 'chiralPhMoment\\r'],\n",
      "      dtype='object', length=5674)\n"
     ]
    }
   ],
   "source": [
    "dtypes=defaultdict(lambda:\"float\")\n",
    "dtypes['cmp1ID'] = 'category'\n",
    "dtypes['cmp1name'] = 'category'\n",
    "dtypes['SMILES'] = 'category'\n",
    "df = pd.read_csv(\"../../data/IL/model_data_with_descriptors.csv\", dtype=dtypes, na_values=[\"na\"])\n",
    "df = df.rename(columns={'Viscosity[Liquid]/Pa&#8226;s':'Viscosity', \n",
    "                   'Electrical_conductivity[Liquid]/S/m':\"ElecConductivity\", \n",
    "                   'Specific_density[Liquid]/kg/m3': 'Density'\n",
    "                  })\n",
    "print(df.info())\n",
    "print(df.columns)"
   ]
  },
  {
   "cell_type": "code",
   "execution_count": 4,
   "id": "b730ceb0",
   "metadata": {},
   "outputs": [],
   "source": [
    "# Feature clean-up\n",
    "df.dropna(axis=1, how='any', inplace=True)          # Remove any column that contains missing data\n",
    "df = df.loc[:, ~df.isin([np.inf, -np.inf]).any()]   # Delete columns that contain at least 1 inf\n",
    "df = df.loc[:, ~df.isnull().any()]                  # Delete columns that contain at least 1 nan\n",
    "df = df.loc[:, df.nunique() != 1]                   # Delete columns that have all elements the same\n",
    "columns_with_na = df.columns[df.applymap(lambda x: 'na' in str(x)).any()] # Identify columns with 'na' values in any of their rows\n",
    "df = df.drop(columns=columns_with_na) # Drop columns with 'na' values"
   ]
  },
  {
   "cell_type": "code",
   "execution_count": 5,
   "id": "7c78f907",
   "metadata": {},
   "outputs": [],
   "source": [
    "replaces= {}\n",
    "for col in df.columns:\n",
    "    if '[' in col or ']' in col or '<' in col:\n",
    "        replaces[col] = col.replace('[','_').replace(']','_').replace('<','_')\n",
    "df = df.rename(columns=replaces)        "
   ]
  },
  {
   "cell_type": "code",
   "execution_count": 6,
   "id": "df9828e6",
   "metadata": {},
   "outputs": [],
   "source": [
    "outputs = ['Viscosity', 'ElecConductivity', 'Density']\n",
    "irrelevant = ['cmp1ID', 'cmp1name', 'SMILES']\n",
    "inputs = list(set(df.columns).difference(set(outputs)).difference(set(irrelevant)))"
   ]
  },
  {
   "cell_type": "code",
   "execution_count": 40,
   "id": "3fdbdf2d",
   "metadata": {},
   "outputs": [],
   "source": [
    "X = df[inputs]\n",
    "y = df[outputs]"
   ]
  },
  {
   "cell_type": "code",
   "execution_count": 41,
   "id": "bfb0e791",
   "metadata": {},
   "outputs": [
    {
     "name": "stderr",
     "output_type": "stream",
     "text": [
      "\n",
      "A value is trying to be set on a copy of a slice from a DataFrame.\n",
      "Try using .loc[row_indexer,col_indexer] = value instead\n",
      "\n",
      "See the caveats in the documentation: https://pandas.pydata.org/pandas-docs/stable/user_guide/indexing.html#returning-a-view-versus-a-copy\n",
      "\n",
      "A value is trying to be set on a copy of a slice from a DataFrame.\n",
      "Try using .loc[row_indexer,col_indexer] = value instead\n",
      "\n",
      "See the caveats in the documentation: https://pandas.pydata.org/pandas-docs/stable/user_guide/indexing.html#returning-a-view-versus-a-copy\n"
     ]
    }
   ],
   "source": [
    "y['Viscosity'] = np.log(y['Viscosity'])\n",
    "y['ElecConductivity'] = -np.log(y['ElecConductivity'])"
   ]
  },
  {
   "cell_type": "code",
   "execution_count": 42,
   "id": "7db1127d",
   "metadata": {},
   "outputs": [],
   "source": [
    "# plt.scatter(X['Temperature/K'], y['Viscosity'])\n",
    "# plt.scatter(X['Temperature/K'], y['ElecConductivity'])\n",
    "# plt.scatter(X['Temperature/K'], y['Density'])"
   ]
  },
  {
   "cell_type": "code",
   "execution_count": 43,
   "id": "768bae05",
   "metadata": {},
   "outputs": [],
   "source": [
    "scaler = StandardScaler() # Scale the feature values\n",
    "X_scaled = pd.DataFrame(scaler.fit_transform(X),columns=inputs) # Scale the feature values"
   ]
  },
  {
   "cell_type": "code",
   "execution_count": null,
   "id": "da6a52d6",
   "metadata": {},
   "outputs": [],
   "source": [
    "n = 20\n",
    "selected = set()\n",
    "for Y_name in outputs:\n",
    "    params = {\n",
    "        \"tree_method\": \"gpu_hist\",\n",
    "        \"gpu_id\":0,\n",
    "        \"objective\": \"reg:squarederror\",\n",
    "        \"n_jobs\":mp.cpu_count() // 2,\n",
    "        \"n_estimators\":1000\n",
    "    }\n",
    "    \n",
    "    Y = y[Y_name]\n",
    "    rf = xgb.XGBRegressor(**params)\n",
    "    rf.fit(X_scaled, Y)\n",
    "    rf_importance = rf.feature_importances_\n",
    "    feature_imp_rf = pd.Series(rf_importance, index=X.columns).sort_values(ascending=False)\n",
    "    top_n_features_rf = feature_imp_rf.nlargest(n) # Select the top n feature importances for Random Forest\n",
    "    print(top_n_features_rf)\n",
    "    selected.update(top_n_features_rf.index)  \n",
    "    \n",
    "#     params = {\n",
    "#         \"tree_method\": \"gpu_hist\",\n",
    "#         \"gpu_id\":0,\n",
    "#         \"objective\": \"reg:squarederror\",\n",
    "#         \"n_jobs\":mp.cpu_count() // 2,\n",
    "#         \"n_estimators\":1000\n",
    "#     }\n",
    "    X_restricted = X_scaled[top_n_features_rf.index]\n",
    "    X_train, X_test, y_train, y_test = train_test_split(X_restricted, Y, random_state=1)\n",
    "    model = xgb.XGBRegressor(**params)\n",
    "    model.fit(X_train, y_train)\n",
    "    preds = model.predict(X_test)\n",
    "    print(f\"RMSE of the base model: {mean_squared_error(y_test, preds, squared=False):.3f}\")\n",
    "    print(f\"R^2 of the base model: {r2_score(y_test, preds):.3f}\")"
   ]
  },
  {
   "cell_type": "code",
   "execution_count": null,
   "id": "538305c8",
   "metadata": {},
   "outputs": [],
   "source": [
    "print(selected)"
   ]
  },
  {
   "cell_type": "code",
   "execution_count": 31,
   "id": "293f9d12",
   "metadata": {},
   "outputs": [],
   "source": [
    "X_restricted = X[list(selected)]\n",
    "X_restricted = scaler.fit_transform(X_restricted) # Scale the feature values"
   ]
  },
  {
   "cell_type": "code",
   "execution_count": 32,
   "id": "ca39312a",
   "metadata": {},
   "outputs": [],
   "source": [
    "X_train, X_test, y_train, y_test = train_test_split(X_restricted, y, random_state=1)"
   ]
  },
  {
   "cell_type": "code",
   "execution_count": 33,
   "id": "9f868773",
   "metadata": {},
   "outputs": [],
   "source": [
    "dtrain_reg = xgb.DMatrix(X_train, y_train)\n",
    "dtest_reg = xgb.DMatrix(X_test, y_test)"
   ]
  },
  {
   "cell_type": "code",
   "execution_count": null,
   "id": "f616818e",
   "metadata": {},
   "outputs": [],
   "source": [
    "n = 10000\n",
    "params = {\n",
    "    \"eta\": 0.05,\n",
    "    \"max_depth\": 10,\n",
    "    \"tree_method\": \"gpu_hist\",\n",
    "    \"gpu_id\":0,\n",
    "    \"objective\": \"reg:squarederror\",\n",
    "    \"n_jobs\":mp.cpu_count() // 2,\n",
    "    \"n_estimators\":n,\n",
    "#     \"device\": \"cuda\",\n",
    "#     \"enable_categorical\":True,\n",
    "#     \"max_cat_to_onehot\":1, \n",
    "}\n",
    "# params = {\n",
    "#     \"objective\": \"reg:squarederror\", \n",
    "#     \"tree_method\": \"gpu_hist\", \n",
    "#     \"gpu_id\":0, \n",
    "#     \"max_cat_to_onehot\":1, \n",
    "#     \"enable_categorical\":True,\n",
    "#     \"n_estimators\":n,\n",
    "#     \"predictor\": \"gpu_predictor\",\n",
    "# }\n",
    "# params = {\"objective\": \"reg:squarederror\", \"tree_method\": \"hist\"}\n",
    "\n",
    "model = xgb.XGBRegressor(**params)\n",
    "model.fit(X_train, y_train)\n",
    "# model = xgb.train(\n",
    "#     params=params,\n",
    "#     dtrain=dtrain_reg,\n",
    "#     num_boost_round=n,\n",
    "# )"
   ]
  },
  {
   "cell_type": "code",
   "execution_count": null,
   "id": "43dd411f",
   "metadata": {},
   "outputs": [],
   "source": [
    "preds = model.predict(X_test)\n",
    "rmse = mean_squared_error(y_test, preds, squared=False)\n",
    "print(f\"RMSE of the base model: {rmse:.3f}\")"
   ]
  },
  {
   "cell_type": "code",
   "execution_count": null,
   "id": "4feb19cb",
   "metadata": {},
   "outputs": [],
   "source": [
    "print(r2_score(y_test, preds))"
   ]
  },
  {
   "cell_type": "code",
   "execution_count": null,
   "id": "a47bf03c",
   "metadata": {},
   "outputs": [],
   "source": [
    "# shap_values = model.predict(X_test, pred_contribs=True)"
   ]
  },
  {
   "cell_type": "code",
   "execution_count": null,
   "id": "24d20ba8",
   "metadata": {},
   "outputs": [],
   "source": [
    "explainer = shap.Explainer(model.predict, X_test, max_evals=20000)\n",
    "shap_values = explainer(X_test)\n",
    "shap.plots.bar(shap_values)"
   ]
  },
  {
   "cell_type": "code",
   "execution_count": null,
   "id": "0ba8ca0e",
   "metadata": {},
   "outputs": [],
   "source": [
    "# shap_interaction_values = model.predict(dtrain_reg, pred_interactions=True)"
   ]
  },
  {
   "cell_type": "code",
   "execution_count": null,
   "id": "9cb44c1e",
   "metadata": {},
   "outputs": [],
   "source": [
    "explainer = shap.TreeExplainer(model)\n",
    "shap_values = explainer.shap_values(X_train)[0]\n",
    "print(shap_values)\n",
    "\n",
    "shap.force_plot(\n",
    "    explainer.expected_value,\n",
    "    shap_values[0, :],\n",
    "    X_train[0, :],\n",
    "    matplotlib=True,\n",
    ")"
   ]
  },
  {
   "cell_type": "code",
   "execution_count": null,
   "id": "2dfcb02f",
   "metadata": {},
   "outputs": [],
   "source": []
  }
 ],
 "metadata": {
  "kernelspec": {
   "display_name": "Python 3 (ipykernel)",
   "language": "python",
   "name": "python3"
  },
  "language_info": {
   "codemirror_mode": {
    "name": "ipython",
    "version": 3
   },
   "file_extension": ".py",
   "mimetype": "text/x-python",
   "name": "python",
   "nbconvert_exporter": "python",
   "pygments_lexer": "ipython3",
   "version": "3.10.6"
  }
 },
 "nbformat": 4,
 "nbformat_minor": 5
}
