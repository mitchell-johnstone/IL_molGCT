{
 "cells": [
  {
   "cell_type": "code",
   "execution_count": 1,
   "id": "1ccec06c",
   "metadata": {},
   "outputs": [],
   "source": [
    "# !pip install atomInSmiles"
   ]
  },
  {
   "cell_type": "code",
   "execution_count": 2,
   "id": "db27deb0",
   "metadata": {},
   "outputs": [],
   "source": [
    "import matplotlib.pyplot as plt\n",
    "import pandas as pd\n",
    "import numpy as np\n",
    "#!pip install rdkit\n",
    "from rdkit import Chem\n",
    "from atomInSmiles import similarity, encode, decode\n",
    "from functools import partial"
   ]
  },
  {
   "cell_type": "code",
   "execution_count": 3,
   "id": "7268a791",
   "metadata": {},
   "outputs": [],
   "source": [
    "output_files = {\n",
    "    'atom: 30000':'atom_IL_moses_bench2_lat=128_epo=50_k=4_20230723.csv',\n",
    "    'atom: 10 cond':'atom_moses_bench2_10conds_lat=128_epo=50_k=4_20230722.csv',\n",
    "    'smilespe: 30000':'smilespe_IL_moses_bench2_lat=128_epo=50_k=4_20230723.csv',\n",
    "    'smilespe: 10 cond':'smilespe_moses_bench2_10conds_lat=128_epo=50_k=4_20230722.csv'\n",
    "}"
   ]
  },
  {
   "cell_type": "code",
   "execution_count": 6,
   "id": "9a7cf405",
   "metadata": {},
   "outputs": [],
   "source": [
    "def getDetails(name, file):\n",
    "    out = pd.read_csv(\"../../outputs/\"+file)\n",
    "    return out[out.Valid==1]\n",
    "\n",
    "output_dfs = dict(zip(output_files.keys(), (getDetails(name, output_files[name]) for name in output_files.keys())))"
   ]
  },
  {
   "cell_type": "code",
   "execution_count": 5,
   "id": "2ab3147b",
   "metadata": {},
   "outputs": [],
   "source": [
    "inp = pd.read_csv(\"../data/IL/train.csv\")\n",
    "inp['atomInSmiles'] = inp['src'].apply(encode)"
   ]
  },
  {
   "cell_type": "code",
   "execution_count": 6,
   "id": "7dd2b363",
   "metadata": {},
   "outputs": [],
   "source": [
    "def get_snn(out):\n",
    "    similar_to_out = partial(similarity, ais2=out)\n",
    "    return inp[\"atomInSmiles\"].apply(similar_to_out).max()"
   ]
  },
  {
   "cell_type": "code",
   "execution_count": null,
   "id": "6123eb89",
   "metadata": {},
   "outputs": [
    {
     "name": "stdout",
     "output_type": "stream",
     "text": [
      "atom: 30000\n"
     ]
    }
   ],
   "source": [
    "for name, df in output_dfs.items():\n",
    "    print(name)\n",
    "    df['atomInSmiles'] = df['SMILES'].apply(encode)\n",
    "    print(\"SNN: \", df['atomInSmiles'].apply(get_snn).mean())"
   ]
  },
  {
   "cell_type": "code",
   "execution_count": 7,
   "id": "0dc2a347",
   "metadata": {},
   "outputs": [
    {
     "data": {
      "text/plain": [
       "'[O;!R;C] = [CH;!R;CO] [c;R;CCC] 1 [cH;R;CC] [cH;R;CC] [cH;R;CC] [cH;R;CC] [cH;R;CC] 1'"
      ]
     },
     "execution_count": 7,
     "metadata": {},
     "output_type": "execute_result"
    }
   ],
   "source": [
    "encode(\"C1=CC=C(C=C1)C=O\")"
   ]
  },
  {
   "cell_type": "code",
   "execution_count": null,
   "id": "92649615",
   "metadata": {},
   "outputs": [],
   "source": []
  }
 ],
 "metadata": {
  "kernelspec": {
   "display_name": "Python 3 (ipykernel)",
   "language": "python",
   "name": "python3"
  },
  "language_info": {
   "codemirror_mode": {
    "name": "ipython",
    "version": 3
   },
   "file_extension": ".py",
   "mimetype": "text/x-python",
   "name": "python",
   "nbconvert_exporter": "python",
   "pygments_lexer": "ipython3",
   "version": "3.10.6"
  }
 },
 "nbformat": 4,
 "nbformat_minor": 5
}
