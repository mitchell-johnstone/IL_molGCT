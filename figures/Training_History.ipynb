{
 "cells": [
  {
   "cell_type": "markdown",
   "id": "5919f335",
   "metadata": {},
   "source": [
    "# Visualization of Training History"
   ]
  },
  {
   "cell_type": "code",
   "execution_count": 1,
   "id": "83ce218e",
   "metadata": {},
   "outputs": [],
   "source": [
    "import matplotlib.pyplot as plt\n",
    "import pandas as pd\n",
    "import numpy as np"
   ]
  },
  {
   "cell_type": "code",
   "execution_count": 4,
   "id": "4ab93add",
   "metadata": {},
   "outputs": [
    {
     "data": {
      "text/html": [
       "<div>\n",
       "<style scoped>\n",
       "    .dataframe tbody tr th:only-of-type {\n",
       "        vertical-align: middle;\n",
       "    }\n",
       "\n",
       "    .dataframe tbody tr th {\n",
       "        vertical-align: top;\n",
       "    }\n",
       "\n",
       "    .dataframe thead th {\n",
       "        text-align: right;\n",
       "    }\n",
       "</style>\n",
       "<table border=\"1\" class=\"dataframe\">\n",
       "  <thead>\n",
       "    <tr style=\"text-align: right;\">\n",
       "      <th></th>\n",
       "      <th>epoch</th>\n",
       "      <th>beta</th>\n",
       "      <th>lr</th>\n",
       "      <th>total_loss</th>\n",
       "      <th>total_loss_te</th>\n",
       "      <th>RCE_mol_loss</th>\n",
       "      <th>RCE_mol_loss_te</th>\n",
       "      <th>RCE_prop_loss</th>\n",
       "      <th>RCE_prop_loss_te</th>\n",
       "      <th>KLD_loss</th>\n",
       "      <th>KLD_loss_te</th>\n",
       "    </tr>\n",
       "  </thead>\n",
       "  <tbody>\n",
       "    <tr>\n",
       "      <th>0</th>\n",
       "      <td>1.0</td>\n",
       "      <td>0.02</td>\n",
       "      <td>0.000039</td>\n",
       "      <td>105.772898</td>\n",
       "      <td>51.540226</td>\n",
       "      <td>70.479634</td>\n",
       "      <td>50.674620</td>\n",
       "      <td>0.0</td>\n",
       "      <td>0.0</td>\n",
       "      <td>1764.663233</td>\n",
       "      <td>43.280330</td>\n",
       "    </tr>\n",
       "    <tr>\n",
       "      <th>1</th>\n",
       "      <td>2.0</td>\n",
       "      <td>0.04</td>\n",
       "      <td>0.000078</td>\n",
       "      <td>44.217541</td>\n",
       "      <td>34.697030</td>\n",
       "      <td>33.922950</td>\n",
       "      <td>34.077936</td>\n",
       "      <td>0.0</td>\n",
       "      <td>0.0</td>\n",
       "      <td>257.364777</td>\n",
       "      <td>15.477337</td>\n",
       "    </tr>\n",
       "    <tr>\n",
       "      <th>2</th>\n",
       "      <td>3.0</td>\n",
       "      <td>0.06</td>\n",
       "      <td>0.000117</td>\n",
       "      <td>31.199714</td>\n",
       "      <td>29.136844</td>\n",
       "      <td>23.217393</td>\n",
       "      <td>28.554676</td>\n",
       "      <td>0.0</td>\n",
       "      <td>0.0</td>\n",
       "      <td>133.038687</td>\n",
       "      <td>9.702796</td>\n",
       "    </tr>\n",
       "    <tr>\n",
       "      <th>3</th>\n",
       "      <td>4.0</td>\n",
       "      <td>0.08</td>\n",
       "      <td>0.000155</td>\n",
       "      <td>21.532939</td>\n",
       "      <td>23.585130</td>\n",
       "      <td>19.253567</td>\n",
       "      <td>22.601078</td>\n",
       "      <td>0.0</td>\n",
       "      <td>0.0</td>\n",
       "      <td>28.492156</td>\n",
       "      <td>12.300654</td>\n",
       "    </tr>\n",
       "    <tr>\n",
       "      <th>4</th>\n",
       "      <td>5.0</td>\n",
       "      <td>0.10</td>\n",
       "      <td>0.000194</td>\n",
       "      <td>18.167769</td>\n",
       "      <td>20.553781</td>\n",
       "      <td>17.158242</td>\n",
       "      <td>20.239845</td>\n",
       "      <td>0.0</td>\n",
       "      <td>0.0</td>\n",
       "      <td>10.095268</td>\n",
       "      <td>3.139353</td>\n",
       "    </tr>\n",
       "  </tbody>\n",
       "</table>\n",
       "</div>"
      ],
      "text/plain": [
       "   epoch  beta        lr  total_loss  total_loss_te  RCE_mol_loss  \\\n",
       "0    1.0  0.02  0.000039  105.772898      51.540226     70.479634   \n",
       "1    2.0  0.04  0.000078   44.217541      34.697030     33.922950   \n",
       "2    3.0  0.06  0.000117   31.199714      29.136844     23.217393   \n",
       "3    4.0  0.08  0.000155   21.532939      23.585130     19.253567   \n",
       "4    5.0  0.10  0.000194   18.167769      20.553781     17.158242   \n",
       "\n",
       "   RCE_mol_loss_te  RCE_prop_loss  RCE_prop_loss_te     KLD_loss  KLD_loss_te  \n",
       "0        50.674620            0.0               0.0  1764.663233    43.280330  \n",
       "1        34.077936            0.0               0.0   257.364777    15.477337  \n",
       "2        28.554676            0.0               0.0   133.038687     9.702796  \n",
       "3        22.601078            0.0               0.0    28.492156    12.300654  \n",
       "4        20.239845            0.0               0.0    10.095268     3.139353  "
      ]
     },
     "execution_count": 4,
     "metadata": {},
     "output_type": "execute_result"
    }
   ],
   "source": [
    "df = pd.read_csv(\"../train_history/trHist_lat=128_20230703.csv\")\n",
    "df.head()"
   ]
  },
  {
   "cell_type": "code",
   "execution_count": null,
   "id": "794a3847",
   "metadata": {},
   "outputs": [
    {
     "data": {
      "text/plain": [
       "<Axes: xlabel='epoch'>"
      ]
     },
     "execution_count": 10,
     "metadata": {},
     "output_type": "execute_result"
    }
   ],
   "source": [
    "fig = plt.figure()\n",
    "df.plot(x=\"epoch\", y=[\"total_loss\", \"total_loss_te\"])"
   ]
  },
  {
   "cell_type": "code",
   "execution_count": null,
   "id": "e4480242",
   "metadata": {},
   "outputs": [],
   "source": [
    "plt."
   ]
  }
 ],
 "metadata": {
  "kernelspec": {
   "display_name": "Python 3 (ipykernel)",
   "language": "python",
   "name": "python3"
  },
  "language_info": {
   "codemirror_mode": {
    "name": "ipython",
    "version": 3
   },
   "file_extension": ".py",
   "mimetype": "text/x-python",
   "name": "python",
   "nbconvert_exporter": "python",
   "pygments_lexer": "ipython3",
   "version": "3.10.6"
  }
 },
 "nbformat": 4,
 "nbformat_minor": 5
}
